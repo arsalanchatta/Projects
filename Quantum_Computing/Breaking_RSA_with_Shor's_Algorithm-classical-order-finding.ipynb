{
 "cells": [
  {
   "cell_type": "markdown",
   "id": "2f5fbba3-fff4-4983-bbf1-4c0eaca34f02",
   "metadata": {},
   "source": [
    "**Q: Breaking RSA**\n",
    "\n",
    "You are given the following key pair:\n",
    "{e,N} = {20579, 121130231},\n",
    "where it is guaranteed that N is the product of two prime numbers p, q.\n",
    "\n",
    "a) Use Shor’s algorithm to factor N. You may use a classical order-finding procedure. For\n",
    "computing the greatest common divisor, you can use Euclid’s algorithm.\n",
    "\n",
    "b) Once you have factored *N*, decrypt the string “blhhay”. The alphabet contains only\n",
    "lower-case letters, which are mapped to integers as “a”→ ca = 0, “b”→ cb = 1, and so\n",
    "on until “z”→ cz = 25. For example, the word “hallo” would be mapped to\n",
    "“hallo” → ch 26^4 + ca 26^3 + cl 26^2 + cl 26^1 + co = 3206568\n",
    "with ch = 7, ca = 0, cl = 11 and co = 14."
   ]
  },
  {
   "cell_type": "code",
   "execution_count": 1,
   "id": "6c3ba121-f077-4af5-9a29-b4a474cc0c2b",
   "metadata": {},
   "outputs": [],
   "source": [
    "%matplotlib inline\n",
    "import numpy as np"
   ]
  },
  {
   "cell_type": "markdown",
   "id": "16dae87b-fd79-4ce1-9412-00e8fe42ed0c",
   "metadata": {},
   "source": [
    "# Shor's algorithm"
   ]
  },
  {
   "cell_type": "code",
   "execution_count": 2,
   "id": "eb797c22-e583-42d1-a694-e43879211a1b",
   "metadata": {},
   "outputs": [],
   "source": [
    "def GCD(a,b):\n",
    "    if(b==0):\n",
    "        return a\n",
    "    else:\n",
    "        return GCD(b,a%b)\n",
    "    \n",
    "# Euklid's algorithm to find gcd\n",
    "def euclidian_GCD_function(x,y):\n",
    "    if y == 0 : \n",
    "        return x  \n",
    "    return euclidian_GCD_function(y, x%y)\n",
    "\n",
    "\n",
    "def extended_GCD(a, b):\n",
    "    if a == 0:\n",
    "        return (b, 0, 1) \n",
    "    else:\n",
    "        g, y, x = extended_GCD(b%a, a)\n",
    "        # print(f'g={g}, y={y}, x={x}')\n",
    "        \n",
    "        return (g, x-(b//a)*y, y)\n",
    "\n",
    "\n",
    "    \n",
    "def Order_Finder(a,N):\n",
    "    r=1\n",
    "    while pow(a,r,N)!=1: # calculating as (a**r)%N\n",
    "        r+=1\n",
    "    return r\n",
    "\n",
    "def Prime_factors(N):\n",
    "    while True:\n",
    "        # 1) if N is even, return 2\n",
    "        if N%2==0:\n",
    "            print(f'Two prime factors of N = {N} are 2 , {N//2}')\n",
    "            return 2, N//2\n",
    "        \n",
    "        # 2) randomly choose a \n",
    "        a = np.random.randint(1,N-1)\n",
    "        \n",
    "        # 3) if gcd(a,N)>1, return it\n",
    "        if euclidian_GCD_function(a,N)>1:\n",
    "            print(f'Two prime factors of N = {N} are {euclidian_GCD_function(a,N)} , {N//euclidian_GCD_function(a,N)}')\n",
    "            return euclidian_GCD_function(a,N), N//euclidian_GCD_function(a,N)\n"
   ]
  },
  {
   "cell_type": "code",
   "execution_count": 3,
   "id": "927bbb65-c6ce-4d45-b751-fce67647d49f",
   "metadata": {},
   "outputs": [
    {
     "name": "stdout",
     "output_type": "stream",
     "text": [
      "Two prime factors of N = 121130231 are 7901 , 15331\n"
     ]
    },
    {
     "data": {
      "text/plain": [
       "(7901, 15331)"
      ]
     },
     "execution_count": 3,
     "metadata": {},
     "output_type": "execute_result"
    }
   ],
   "source": [
    "N = 121130231\n",
    "Prime_factors(N)"
   ]
  },
  {
   "cell_type": "markdown",
   "id": "b3aa113d-e8d3-4621-a1f7-7e54e6b0e7c0",
   "metadata": {},
   "source": [
    "# Breaking RSA"
   ]
  },
  {
   "cell_type": "code",
   "execution_count": 4,
   "id": "a3faca51-efa0-404e-a920-fcf02d7f0264",
   "metadata": {},
   "outputs": [],
   "source": [
    "def Euler(a,b):\n",
    "    return (a-1)*(b-1)\n",
    "\n",
    "def Mod_Inverse(c, d):\n",
    "    g, x, y = extended_GCD(c, d)\n",
    "    return x % d\n",
    "\n",
    "def String_to_number(string):\n",
    "    number = 0\n",
    "    for k, albhabet in enumerate(string):\n",
    "        \n",
    "         # we are subtracting 97 because 'ord()' looks into Unicode character\n",
    "        number+=(ord(albhabet)-97)*pow(26,len(string)-1-k)\n",
    "    return number\n",
    "\n",
    "def number_to_string(number):\n",
    "    string_list=[]\n",
    "    while number!=0:\n",
    "        number, modulo = divmod(number,26)\n",
    "        string_list.append(chr(modulo+97)) #converting number into unicode character using char() function\n",
    "    return ''.join(string_list[::-1]) "
   ]
  },
  {
   "cell_type": "code",
   "execution_count": 5,
   "id": "94dd5ea3-92f6-4907-867e-f762c3de87a4",
   "metadata": {},
   "outputs": [],
   "source": [
    "def Encryption(string, e, N):\n",
    "    encoded = number_to_string(pow(String_to_number(string), int(e),N))\n",
    "    print(\"Encrypt plain text '\",string,\"': '\",encoded,\"'\")\n",
    "    return encoded\n",
    "\n",
    "\n",
    "def Finding_d(e,N):\n",
    "    a,b = Prime_factors(N)\n",
    "    d = Mod_Inverse(e,Euler(a,b))\n",
    "    return d\n",
    "\n",
    "\n",
    "def Decryption(string, e, N):\n",
    "    d = Finding_d(e,N)\n",
    "    decoded = number_to_string(pow(String_to_number(string), int(d),N))\n",
    "    print(\"Decrypt cipher text '\",string,\"': '\",decoded,\"'\")\n",
    "    return decoded\n"
   ]
  },
  {
   "cell_type": "code",
   "execution_count": 6,
   "id": "d66c3ce5-4b94-4606-bcf3-e51a38403eeb",
   "metadata": {},
   "outputs": [
    {
     "name": "stdout",
     "output_type": "stream",
     "text": [
      "Two prime factors of N = 121130231 are 7901 , 15331\n",
      "Decrypt cipher text ' blhhay ': ' ciao '\n",
      "Encrypt plain text ' ciao ': ' blhhay '\n"
     ]
    }
   ],
   "source": [
    "# 2) Decrypt \"blhhay\"\n",
    "e , N = 20579, 121130231\n",
    "Ans1 = Decryption(\"blhhay\", e, N)\n",
    "Ans2 = Encryption(Ans1, e, N)"
   ]
  },
  {
   "cell_type": "code",
   "execution_count": null,
   "id": "be808c13-70f0-4a71-81bb-cd133d66dafe",
   "metadata": {},
   "outputs": [],
   "source": []
  }
 ],
 "metadata": {
  "kernelspec": {
   "display_name": "Python 3 (ipykernel)",
   "language": "python",
   "name": "python3"
  },
  "language_info": {
   "codemirror_mode": {
    "name": "ipython",
    "version": 3
   },
   "file_extension": ".py",
   "mimetype": "text/x-python",
   "name": "python",
   "nbconvert_exporter": "python",
   "pygments_lexer": "ipython3",
   "version": "3.9.13"
  }
 },
 "nbformat": 4,
 "nbformat_minor": 5
}
