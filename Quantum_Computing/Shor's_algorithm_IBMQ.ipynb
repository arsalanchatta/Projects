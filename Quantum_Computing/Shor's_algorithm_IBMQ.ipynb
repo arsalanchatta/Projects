{
 "cells": [
  {
   "cell_type": "code",
   "execution_count": 1,
   "id": "778332d8-2bd4-48fe-8f70-f230b244aec7",
   "metadata": {},
   "outputs": [],
   "source": [
    "import numpy as np\n",
    "from qiskit import QuantumCircuit, Aer, execute\n",
    "from collections import Counter\n"
   ]
  },
  {
   "cell_type": "code",
   "execution_count": 2,
   "id": "78b19b9b-d83d-48ca-b660-f02fd3a1c3ec",
   "metadata": {},
   "outputs": [],
   "source": [
    "def shor_algorithm_IBM(N, a):\n",
    "    # Step 1: Create a quantum circuit with 2N qubits\n",
    "    qc = QuantumCircuit(2*N, N)\n",
    "    \n",
    "    # Step 2: Apply Hadamard gates to the first N qubits\n",
    "    qc.h(range(N))\n",
    "    \n",
    "    # Step 3: Apply the controlled unitary operations U_a\n",
    "    for i in range(N):\n",
    "        qc.x(i + N)  # Ancilla qubits\n",
    "        for j in range(2**i):\n",
    "            qc.cx(i, i + N)\n",
    "    \n",
    "    # Step 4: Apply the inverse Quantum Fourier Transform (omitting for clarity)\n",
    "    \n",
    "    # Step 5: Measure the first N qubits\n",
    "    qc.measure(range(N), range(N))\n",
    "    \n",
    "    # Step 6: Simulate the circuit and obtain the result\n",
    "    backend = Aer.get_backend('qasm_simulator')\n",
    "    job = execute(qc, backend, shots=100000)\n",
    "    # job = execute(qc, backend, shots=1)\n",
    "    result = job.result()\n",
    "    counts = result.get_counts()\n",
    "    \n",
    "    return counts\n",
    "\n",
    "def extract_factors(counts, N):\n",
    "    # Convert the measurement outcomes to a binary string\n",
    "    binary_list = list(counts.keys())\n",
    "    \n",
    "    # Use Counter to count occurrences of each value\n",
    "    counter = Counter(binary_list)\n",
    "\n",
    "    # Find the most common value and its count\n",
    "    most_common_value = counter.most_common(1)[0][0]\n",
    "    count_of_most_common = counter.most_common(1)[0][1]\n",
    "    \n",
    "    # Extract the period part of the binary string\n",
    "    period_binary = most_common_value[:len(most_common_value)//2]\n",
    "    # period_binary = most_common_value[len(most_common_value)//2:]\n",
    "    \n",
    "    # Convert the period binary to an integer\n",
    "    period = int(period_binary, 2)\n",
    "    \n",
    "    # Calculate candidate factors using the period\n",
    "    Prime_1 = np.gcd(a**(period//2) - 1, N)\n",
    "    Prime_2 = np.gcd(a**(period//2) + 1, N)\n",
    "    \n",
    "    return Prime_1, Prime_2\n"
   ]
  },
  {
   "cell_type": "code",
   "execution_count": 17,
   "id": "452f3219-7173-4c32-98a8-b086673470f5",
   "metadata": {},
   "outputs": [
    {
     "name": "stdout",
     "output_type": "stream",
     "text": [
      "Prime Factors of 15 are: 3 and 5\n"
     ]
    }
   ],
   "source": [
    "# Set parameters\n",
    "N = 15  # Number to be factored\n",
    "a = 2   # Value of 'a'\n",
    "\n",
    "# Run Shor's algorithm\n",
    "counts = shor_algorithm_IBM(N, a)\n",
    "\n",
    "# Extract and calculate factors\n",
    "factor_1, factor_2 = extract_factors(counts, N)\n",
    "\n",
    "print(\"Prime Factors of\", N, \"are:\", factor_1, \"and\", factor_2)"
   ]
  },
  {
   "cell_type": "code",
   "execution_count": 11,
   "id": "6595ecae-d59c-4ffb-9cca-a1023c317c04",
   "metadata": {},
   "outputs": [
    {
     "name": "stdout",
     "output_type": "stream",
     "text": [
      "Prime Factors of 17 are: 17 and 1\n"
     ]
    }
   ],
   "source": [
    "# Set parameters\n",
    "N = 17  # Number to be factored\n",
    "a = 3   # Value of 'a'\n",
    "\n",
    "# Run Shor's algorithm\n",
    "counts = shor_algorithm_IBM(N, a)\n",
    "\n",
    "# Extract and calculate factors\n",
    "factor_1, factor_2 = extract_factors(counts, N)\n",
    "\n",
    "print(\"Prime Factors of\", N, \"are:\", factor_1, \"and\", factor_2)"
   ]
  },
  {
   "cell_type": "code",
   "execution_count": null,
   "id": "38bce135-9858-4bc4-a9f4-1095de6c24e7",
   "metadata": {},
   "outputs": [],
   "source": []
  }
 ],
 "metadata": {
  "kernelspec": {
   "display_name": "Python 3 (ipykernel)",
   "language": "python",
   "name": "python3"
  },
  "language_info": {
   "codemirror_mode": {
    "name": "ipython",
    "version": 3
   },
   "file_extension": ".py",
   "mimetype": "text/x-python",
   "name": "python",
   "nbconvert_exporter": "python",
   "pygments_lexer": "ipython3",
   "version": "3.9.13"
  }
 },
 "nbformat": 4,
 "nbformat_minor": 5
}
